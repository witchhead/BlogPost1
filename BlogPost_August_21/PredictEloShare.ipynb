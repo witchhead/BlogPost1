{
  "cells": [
    {
      "cell_type": "code",
      "execution_count": null,
      "metadata": {
        "id": "z-07gYNQmmcN"
      },
      "outputs": [],
      "source": [
        "import pandas as pd\n",
        "import os\n",
        "import numpy as np\n",
        "import time\n",
        "import random"
      ]
    },
    {
      "cell_type": "code",
      "execution_count": null,
      "metadata": {
        "colab": {
          "base_uri": "https://localhost:8080/"
        },
        "id": "OZZ3AF5AmnlO",
        "outputId": "0ef338c2-7777-451e-c4e1-be6b20aafc72"
      },
      "outputs": [
        {
          "output_type": "stream",
          "name": "stdout",
          "text": [
            "Mounted at /content/drive\n"
          ]
        }
      ],
      "source": [
        "from google.colab import drive\n",
        "drive.mount('/content/drive')"
      ]
    },
    {
      "cell_type": "code",
      "execution_count": null,
      "metadata": {
        "id": "eYVWFpXAmou5"
      },
      "outputs": [],
      "source": [
        "from sklearn.preprocessing import LabelEncoder\n",
        "from sklearn.preprocessing import MinMaxScaler\n",
        "from sklearn.preprocessing import StandardScaler\n",
        "from sklearn.model_selection import train_test_split"
      ]
    },
    {
      "cell_type": "code",
      "execution_count": null,
      "metadata": {
        "id": "zZEo7AJ0oEhj"
      },
      "outputs": [],
      "source": [
        "import tensorflow as tf\n",
        "import keras\n",
        "from keras import layers\n",
        "import pickle"
      ]
    },
    {
      "cell_type": "markdown",
      "metadata": {
        "id": "I3zc0DmPHsjs"
      },
      "source": [
        "## Hyper parameter tuning"
      ]
    },
    {
      "cell_type": "code",
      "execution_count": null,
      "metadata": {
        "id": "y9hXHyq7H1yC"
      },
      "outputs": [],
      "source": [
        "df = pd.read_csv(\"/content/drive/MyDrive/60+0_7_full/new_0_9.csv\")"
      ]
    },
    {
      "cell_type": "code",
      "execution_count": null,
      "metadata": {
        "id": "ju_VflgnHNrk"
      },
      "outputs": [],
      "source": [
        "from keras import models\n",
        "from keras import optimizers\n",
        "\n",
        "df_org = df\n",
        "history_list = []\n",
        "test_loss = []\n",
        "test_y = []"
      ]
    },
    {
      "cell_type": "code",
      "execution_count": null,
      "metadata": {
        "id": "ZPgwMGAtHPRs"
      },
      "outputs": [],
      "source": [
        "test_threshold = [20]\n",
        "test_movenum = [60, 30, 20]\n",
        "for threshold in test_threshold:\n",
        "  df = df_org\n",
        "  df.loc[df.Eval >= threshold, 'Eval'] = threshold\n",
        "  df.loc[df.Eval <= -threshold, 'Eval'] = -threshold\n",
        "  df.loc[df.EvalDiff >= threshold, 'Eval'] = threshold\n",
        "  df.loc[df.EvalDiff <= -threshold, 'Eval'] = -threshold\n",
        "  df['Time'] = df['Time'] / 60\n",
        "  df['Eval'] = df['Eval'] / threshold\n",
        "  df['EvalDiff']  = df['EvalDiff'] / threshold\n",
        "\n",
        "  df = df[['GameIndex', 'Time', 'Eval', 'EvalDiff', 'ForcedMate',\n",
        "            'WhiteElo', 'BlackElo', 'Result']]\n",
        "  gindex = list(df[\"GameIndex\"].unique())\n",
        "  df_output = pd.DataFrame(gindex)\n",
        "  df_output.columns = ['GameIndex']\n",
        "  first_ = 1\n",
        "  tb_list = []\n",
        "  movenum_max = test_movenum[0] * 2\n",
        "  for g in gindex:\n",
        "      df_temp = df[df.GameIndex == g]\n",
        "      df_output.loc[df_output.GameIndex == g, 'WhiteElo'] = df_temp['WhiteElo'].iloc[0]\n",
        "      df_output.loc[df_output.GameIndex == g, 'BlackElo'] = df_temp['BlackElo'].iloc[0]\n",
        "      df_output.loc[df_output.GameIndex == g, 'Result'] = df_temp['Result'].iloc[0]\n",
        "      table = df_temp[['Eval', 'EvalDiff', 'Time']].transpose()\n",
        "      table.columns = [str(x) for x in range(0, len(table.iloc[0]))]\n",
        "      if(len(table.iloc[0]) > movenum_max):\n",
        "        table = table[[str(x) for x in range(0, movenum_max)]]\n",
        "      else:\n",
        "        newtb = pd.DataFrame(columns = [str(x) for x in range(len(table.iloc[0]), movenum_max)])\n",
        "        table = pd.concat([table, newtb], axis=1)\n",
        "        table.columns = [str(x) for x in range(0, len(table.iloc[0]))]\n",
        "        table = table.fillna(0)\n",
        "      tb_list.append(table)\n",
        "  df_output['avg_elo'] = (df_output['WhiteElo'] + df_output['BlackElo']) / 2\n",
        "\n",
        "  for movenum_max in test_movenum:\n",
        "    column_list = [str(x) for x in range(0, movenum_max)]\n",
        "    if(movenum_max != test_movenum[0]):\n",
        "      tb_list = [tb[column_list] for tb in tb_list]\n",
        "\n",
        "    X_train, X_test, y_train, y_test = train_test_split(tb_list, df_output[['avg_elo']], test_size=0.2, random_state=42)\n",
        "\n",
        "    model = models.Sequential()\n",
        "    model.add(layers.Conv2D(64, (5, 5), padding = 'same', activation='relu', input_shape=(3, movenum_max, 1)))\n",
        "    model.add(layers.MaxPooling2D((2, 2)))\n",
        "    model.add(layers.ZeroPadding2D(padding = (2, 2), data_format = 'channels_last'))\n",
        "\n",
        "    model.add(layers.Conv2D(64, (3, 3), padding = 'same', activation='relu', input_shape=(3, movenum_max, 1)))\n",
        "    model.add(layers.MaxPooling2D((2, 2)))\n",
        "\n",
        "    model.add(layers.Flatten())\n",
        "    model.add(layers.Dense(1))\n",
        "    model.add(layers.Dense(1, activation = 'relu'))\n",
        "\n",
        "\n",
        "    X_train = np.array(X_train)\n",
        "    X_train = tf.reshape(X_train, shape = [len(X_train), 3, movenum_max, 1])\n",
        "    model.compile(optimizer= optimizers.Adam(),\n",
        "                  loss=tf.keras.losses.mse)\n",
        "    history = model.fit(X_train, y_train, epochs= 10)\n",
        "    X_test = np.array(X_test)\n",
        "    X_test = tf.reshape(X_test, shape = [len(y_test), 3, movenum_max, 1])\n",
        "    y_predict = model.predict(X_test)\n",
        "    score = model.evaluate(X_test, y_test)\n",
        "\n",
        "    history_list.append(history.history)\n",
        "    test_loss.append(score)\n",
        "    test_y.append(y_predict)"
      ]
    },
    {
      "cell_type": "code",
      "execution_count": null,
      "metadata": {
        "id": "qym3lxIq3aqd"
      },
      "outputs": [],
      "source": [
        "df_vis = pd.DataFrame(y_predict)\n",
        "df_vis.columns = ['avg_elo_pred']\n",
        "df_vis['avg_elo_pred'] = df_vis['avg_elo_pred'] * 3500\n",
        "y_test_add = y_test * 3500\n",
        "df_vis = df_vis.reset_index()\n",
        "df_vis = pd.concat([df_vis, y_test_add.reset_index()], axis = 1)"
      ]
    },
    {
      "cell_type": "code",
      "execution_count": null,
      "metadata": {
        "id": "DyeCbva83siO"
      },
      "outputs": [],
      "source": [
        "import seaborn as sns\n",
        "sns.scatterplot(data = df_vis, x = 'avg_elo_pred', y = 'avg_elo', alpha = 0.2)"
      ]
    }
  ],
  "metadata": {
    "colab": {
      "collapsed_sections": [
        "I3zc0DmPHsjs",
        "JEUBoLnOu3M2",
        "fAPS9hG3Nm-f"
      ],
      "provenance": []
    },
    "kernelspec": {
      "display_name": "Python 3",
      "name": "python3"
    },
    "language_info": {
      "name": "python"
    }
  },
  "nbformat": 4,
  "nbformat_minor": 0
}